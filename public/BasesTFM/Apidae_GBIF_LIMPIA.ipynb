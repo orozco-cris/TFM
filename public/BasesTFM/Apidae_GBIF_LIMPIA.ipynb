{
 "cells": [
  {
   "cell_type": "code",
   "execution_count": 1,
   "id": "ff36ecce-aef1-4ca5-8861-1d786c8bf4ec",
   "metadata": {
    "tags": []
   },
   "outputs": [
    {
     "name": "stdout",
     "output_type": "stream",
     "text": [
      "Cabeceras del archivo Excel:\n",
      "['Familia', 'Genero', 'Especie', 'Pais', 'Provincia', 'Canton', 'Localidad', 'Latitud', 'Longitud', 'Altitud']\n",
      "Total de registros en el DataFrame limpio: 1470\n"
     ]
    }
   ],
   "source": [
    "import pandas as pd\n",
    "\n",
    "# URL del archivo Excel en formato raw\n",
    "url = 'Apidae_INABIO_LIMPIA.xlsx'\n",
    "\n",
    "# Leer el archivo Excel\n",
    "df = pd.read_excel(url, engine='openpyxl', sheet_name=0)\n",
    "\n",
    "# Listar las cabeceras (nombres de las columnas)\n",
    "print(\"Cabeceras del archivo Excel:\")\n",
    "print(df.columns.tolist())  # Convierte los nombres de las columnas a una lista\n",
    "\n",
    "\n",
    "# Reemplazar valores NaN por un valor por defecto (por ejemplo, una cadena vacía)\n",
    "df = df.fillna('')  # Puedes reemplazar '' por cualquier otro valor como 0, 'Desconocido', etc.\n",
    "\n",
    "# Reemplazar 'GalÃ¡pagos' por 'Galapagos' en todo el DataFrame\n",
    "df = df.replace('GalÃ¡pagos', 'Galapagos', regex=True)\n",
    "\n",
    "# Guardar el DataFrame limpio en un nuevo dataset llamado nuevo_df\n",
    "nuevo_df = df\n",
    "\n",
    "# Contar el total de registros (filas) después de las transformaciones\n",
    "total_registros = nuevo_df.shape[0]\n",
    "\n",
    "# Mostrar el total de registros\n",
    "print(f\"Total de registros en el DataFrame limpio: {total_registros}\")\n"
   ]
  },
  {
   "cell_type": "code",
   "execution_count": 3,
   "id": "f382fdf5-e6a9-4d0b-8e2b-fa96164a7260",
   "metadata": {
    "tags": []
   },
   "outputs": [
    {
     "name": "stdout",
     "output_type": "stream",
     "text": [
      "  Familia  Genero Especie     Pais   Provincia               Canton  \\\n",
      "0  Apidae  Apidae          Ecuador  Tungurahua  Baños de Agua Santa   \n",
      "1  Apidae  Apidae          Ecuador      Guayas            Guayaquil   \n",
      "2  Apidae  Apidae          Ecuador      Guayas            Guayaquil   \n",
      "3  Apidae  Apidae          Ecuador      El Oro               Torata   \n",
      "4  Apidae  Apidae          Ecuador      El Oro               Torata   \n",
      "\n",
      "           Localidad Latitud Longitud Altitud  \n",
      "0     Casa del arbol  -1.418   -78.42  2600.0  \n",
      "1  B.P. Cerro Blanco  -2.178  -80.016    20.0  \n",
      "2  B.P. Cerro Blanco  -2.178  -80.016    20.0  \n",
      "3            Sabayàn  -3.597  -79.846   370.0  \n",
      "4            Sabayàn  -3.597  -79.846   370.0  \n"
     ]
    },
    {
     "name": "stderr",
     "output_type": "stream",
     "text": [
      "C:\\Users\\Public\\Documents\\Wondershare\\CreatorTemp\\ipykernel_11504\\3353647308.py:13: FutureWarning: DataFrame.applymap has been deprecated. Use DataFrame.map instead.\n",
      "  nuevo_df = nuevo_df.applymap(limpiar_caracteres)\n"
     ]
    }
   ],
   "source": [
    "import pandas as pd\n",
    "\n",
    "# Asumiendo que 'nuevo_df' ya está cargado\n",
    "\n",
    "# Función para reemplazar los caracteres erróneos 'Ã­' y 'Ã±'\n",
    "def limpiar_caracteres(texto):\n",
    "    if isinstance(texto, str):\n",
    "        # Reemplazar los caracteres erróneos por sus equivalentes correctos\n",
    "        texto = texto.replace('Ã­', 'í').replace('Ã±', 'ñ')\n",
    "    return texto\n",
    "\n",
    "# Aplicar la función a todas las columnas de tipo texto en el DataFrame\n",
    "nuevo_df = nuevo_df.applymap(limpiar_caracteres)\n",
    "\n",
    "# Verificar los primeros registros del DataFrame limpio\n",
    "print(nuevo_df.head())\n"
   ]
  },
  {
   "cell_type": "code",
   "execution_count": 5,
   "id": "96030107-9e1c-4f5f-9725-f2ba86a111ef",
   "metadata": {
    "tags": []
   },
   "outputs": [
    {
     "ename": "FileNotFoundError",
     "evalue": "[Errno 2] No such file or directory: 'Ubicaciones.xlsx'",
     "output_type": "error",
     "traceback": [
      "\u001b[1;31m---------------------------------------------------------------------------\u001b[0m",
      "\u001b[1;31mFileNotFoundError\u001b[0m                         Traceback (most recent call last)",
      "Cell \u001b[1;32mIn[5], line 7\u001b[0m\n\u001b[0;32m      4\u001b[0m url_ubicaciones \u001b[38;5;241m=\u001b[39m \u001b[38;5;124m'\u001b[39m\u001b[38;5;124mUbicaciones.xlsx\u001b[39m\u001b[38;5;124m'\u001b[39m\n\u001b[0;32m      6\u001b[0m \u001b[38;5;66;03m# Leer el archivo Excel\u001b[39;00m\n\u001b[1;32m----> 7\u001b[0m df_ubicaciones \u001b[38;5;241m=\u001b[39m pd\u001b[38;5;241m.\u001b[39mread_excel(url_ubicaciones, engine\u001b[38;5;241m=\u001b[39m\u001b[38;5;124m'\u001b[39m\u001b[38;5;124mopenpyxl\u001b[39m\u001b[38;5;124m'\u001b[39m)\n\u001b[0;32m      9\u001b[0m \u001b[38;5;66;03m# Quitar espacios en blanco de todas las columnas\u001b[39;00m\n\u001b[0;32m     10\u001b[0m df_ubicaciones \u001b[38;5;241m=\u001b[39m df_ubicaciones\u001b[38;5;241m.\u001b[39mapply(\u001b[38;5;28;01mlambda\u001b[39;00m x: x\u001b[38;5;241m.\u001b[39mstr\u001b[38;5;241m.\u001b[39mstrip() \u001b[38;5;28;01mif\u001b[39;00m x\u001b[38;5;241m.\u001b[39mdtype \u001b[38;5;241m==\u001b[39m \u001b[38;5;124m\"\u001b[39m\u001b[38;5;124mobject\u001b[39m\u001b[38;5;124m\"\u001b[39m \u001b[38;5;28;01melse\u001b[39;00m x)\n",
      "File \u001b[1;32m~\\anaconda3\\Lib\\site-packages\\pandas\\io\\excel\\_base.py:495\u001b[0m, in \u001b[0;36mread_excel\u001b[1;34m(io, sheet_name, header, names, index_col, usecols, dtype, engine, converters, true_values, false_values, skiprows, nrows, na_values, keep_default_na, na_filter, verbose, parse_dates, date_parser, date_format, thousands, decimal, comment, skipfooter, storage_options, dtype_backend, engine_kwargs)\u001b[0m\n\u001b[0;32m    493\u001b[0m \u001b[38;5;28;01mif\u001b[39;00m \u001b[38;5;129;01mnot\u001b[39;00m \u001b[38;5;28misinstance\u001b[39m(io, ExcelFile):\n\u001b[0;32m    494\u001b[0m     should_close \u001b[38;5;241m=\u001b[39m \u001b[38;5;28;01mTrue\u001b[39;00m\n\u001b[1;32m--> 495\u001b[0m     io \u001b[38;5;241m=\u001b[39m ExcelFile(\n\u001b[0;32m    496\u001b[0m         io,\n\u001b[0;32m    497\u001b[0m         storage_options\u001b[38;5;241m=\u001b[39mstorage_options,\n\u001b[0;32m    498\u001b[0m         engine\u001b[38;5;241m=\u001b[39mengine,\n\u001b[0;32m    499\u001b[0m         engine_kwargs\u001b[38;5;241m=\u001b[39mengine_kwargs,\n\u001b[0;32m    500\u001b[0m     )\n\u001b[0;32m    501\u001b[0m \u001b[38;5;28;01melif\u001b[39;00m engine \u001b[38;5;129;01mand\u001b[39;00m engine \u001b[38;5;241m!=\u001b[39m io\u001b[38;5;241m.\u001b[39mengine:\n\u001b[0;32m    502\u001b[0m     \u001b[38;5;28;01mraise\u001b[39;00m \u001b[38;5;167;01mValueError\u001b[39;00m(\n\u001b[0;32m    503\u001b[0m         \u001b[38;5;124m\"\u001b[39m\u001b[38;5;124mEngine should not be specified when passing \u001b[39m\u001b[38;5;124m\"\u001b[39m\n\u001b[0;32m    504\u001b[0m         \u001b[38;5;124m\"\u001b[39m\u001b[38;5;124man ExcelFile - ExcelFile already has the engine set\u001b[39m\u001b[38;5;124m\"\u001b[39m\n\u001b[0;32m    505\u001b[0m     )\n",
      "File \u001b[1;32m~\\anaconda3\\Lib\\site-packages\\pandas\\io\\excel\\_base.py:1567\u001b[0m, in \u001b[0;36mExcelFile.__init__\u001b[1;34m(self, path_or_buffer, engine, storage_options, engine_kwargs)\u001b[0m\n\u001b[0;32m   1564\u001b[0m \u001b[38;5;28mself\u001b[39m\u001b[38;5;241m.\u001b[39mengine \u001b[38;5;241m=\u001b[39m engine\n\u001b[0;32m   1565\u001b[0m \u001b[38;5;28mself\u001b[39m\u001b[38;5;241m.\u001b[39mstorage_options \u001b[38;5;241m=\u001b[39m storage_options\n\u001b[1;32m-> 1567\u001b[0m \u001b[38;5;28mself\u001b[39m\u001b[38;5;241m.\u001b[39m_reader \u001b[38;5;241m=\u001b[39m \u001b[38;5;28mself\u001b[39m\u001b[38;5;241m.\u001b[39m_engines[engine](\n\u001b[0;32m   1568\u001b[0m     \u001b[38;5;28mself\u001b[39m\u001b[38;5;241m.\u001b[39m_io,\n\u001b[0;32m   1569\u001b[0m     storage_options\u001b[38;5;241m=\u001b[39mstorage_options,\n\u001b[0;32m   1570\u001b[0m     engine_kwargs\u001b[38;5;241m=\u001b[39mengine_kwargs,\n\u001b[0;32m   1571\u001b[0m )\n",
      "File \u001b[1;32m~\\anaconda3\\Lib\\site-packages\\pandas\\io\\excel\\_openpyxl.py:553\u001b[0m, in \u001b[0;36mOpenpyxlReader.__init__\u001b[1;34m(self, filepath_or_buffer, storage_options, engine_kwargs)\u001b[0m\n\u001b[0;32m    541\u001b[0m \u001b[38;5;250m\u001b[39m\u001b[38;5;124;03m\"\"\"\u001b[39;00m\n\u001b[0;32m    542\u001b[0m \u001b[38;5;124;03mReader using openpyxl engine.\u001b[39;00m\n\u001b[0;32m    543\u001b[0m \n\u001b[1;32m   (...)\u001b[0m\n\u001b[0;32m    550\u001b[0m \u001b[38;5;124;03m    Arbitrary keyword arguments passed to excel engine.\u001b[39;00m\n\u001b[0;32m    551\u001b[0m \u001b[38;5;124;03m\"\"\"\u001b[39;00m\n\u001b[0;32m    552\u001b[0m import_optional_dependency(\u001b[38;5;124m\"\u001b[39m\u001b[38;5;124mopenpyxl\u001b[39m\u001b[38;5;124m\"\u001b[39m)\n\u001b[1;32m--> 553\u001b[0m \u001b[38;5;28msuper\u001b[39m()\u001b[38;5;241m.\u001b[39m\u001b[38;5;21m__init__\u001b[39m(\n\u001b[0;32m    554\u001b[0m     filepath_or_buffer,\n\u001b[0;32m    555\u001b[0m     storage_options\u001b[38;5;241m=\u001b[39mstorage_options,\n\u001b[0;32m    556\u001b[0m     engine_kwargs\u001b[38;5;241m=\u001b[39mengine_kwargs,\n\u001b[0;32m    557\u001b[0m )\n",
      "File \u001b[1;32m~\\anaconda3\\Lib\\site-packages\\pandas\\io\\excel\\_base.py:563\u001b[0m, in \u001b[0;36mBaseExcelReader.__init__\u001b[1;34m(self, filepath_or_buffer, storage_options, engine_kwargs)\u001b[0m\n\u001b[0;32m    559\u001b[0m \u001b[38;5;28mself\u001b[39m\u001b[38;5;241m.\u001b[39mhandles \u001b[38;5;241m=\u001b[39m IOHandles(\n\u001b[0;32m    560\u001b[0m     handle\u001b[38;5;241m=\u001b[39mfilepath_or_buffer, compression\u001b[38;5;241m=\u001b[39m{\u001b[38;5;124m\"\u001b[39m\u001b[38;5;124mmethod\u001b[39m\u001b[38;5;124m\"\u001b[39m: \u001b[38;5;28;01mNone\u001b[39;00m}\n\u001b[0;32m    561\u001b[0m )\n\u001b[0;32m    562\u001b[0m \u001b[38;5;28;01mif\u001b[39;00m \u001b[38;5;129;01mnot\u001b[39;00m \u001b[38;5;28misinstance\u001b[39m(filepath_or_buffer, (ExcelFile, \u001b[38;5;28mself\u001b[39m\u001b[38;5;241m.\u001b[39m_workbook_class)):\n\u001b[1;32m--> 563\u001b[0m     \u001b[38;5;28mself\u001b[39m\u001b[38;5;241m.\u001b[39mhandles \u001b[38;5;241m=\u001b[39m get_handle(\n\u001b[0;32m    564\u001b[0m         filepath_or_buffer, \u001b[38;5;124m\"\u001b[39m\u001b[38;5;124mrb\u001b[39m\u001b[38;5;124m\"\u001b[39m, storage_options\u001b[38;5;241m=\u001b[39mstorage_options, is_text\u001b[38;5;241m=\u001b[39m\u001b[38;5;28;01mFalse\u001b[39;00m\n\u001b[0;32m    565\u001b[0m     )\n\u001b[0;32m    567\u001b[0m \u001b[38;5;28;01mif\u001b[39;00m \u001b[38;5;28misinstance\u001b[39m(\u001b[38;5;28mself\u001b[39m\u001b[38;5;241m.\u001b[39mhandles\u001b[38;5;241m.\u001b[39mhandle, \u001b[38;5;28mself\u001b[39m\u001b[38;5;241m.\u001b[39m_workbook_class):\n\u001b[0;32m    568\u001b[0m     \u001b[38;5;28mself\u001b[39m\u001b[38;5;241m.\u001b[39mbook \u001b[38;5;241m=\u001b[39m \u001b[38;5;28mself\u001b[39m\u001b[38;5;241m.\u001b[39mhandles\u001b[38;5;241m.\u001b[39mhandle\n",
      "File \u001b[1;32m~\\anaconda3\\Lib\\site-packages\\pandas\\io\\common.py:882\u001b[0m, in \u001b[0;36mget_handle\u001b[1;34m(path_or_buf, mode, encoding, compression, memory_map, is_text, errors, storage_options)\u001b[0m\n\u001b[0;32m    873\u001b[0m         handle \u001b[38;5;241m=\u001b[39m \u001b[38;5;28mopen\u001b[39m(\n\u001b[0;32m    874\u001b[0m             handle,\n\u001b[0;32m    875\u001b[0m             ioargs\u001b[38;5;241m.\u001b[39mmode,\n\u001b[1;32m   (...)\u001b[0m\n\u001b[0;32m    878\u001b[0m             newline\u001b[38;5;241m=\u001b[39m\u001b[38;5;124m\"\u001b[39m\u001b[38;5;124m\"\u001b[39m,\n\u001b[0;32m    879\u001b[0m         )\n\u001b[0;32m    880\u001b[0m     \u001b[38;5;28;01melse\u001b[39;00m:\n\u001b[0;32m    881\u001b[0m         \u001b[38;5;66;03m# Binary mode\u001b[39;00m\n\u001b[1;32m--> 882\u001b[0m         handle \u001b[38;5;241m=\u001b[39m \u001b[38;5;28mopen\u001b[39m(handle, ioargs\u001b[38;5;241m.\u001b[39mmode)\n\u001b[0;32m    883\u001b[0m     handles\u001b[38;5;241m.\u001b[39mappend(handle)\n\u001b[0;32m    885\u001b[0m \u001b[38;5;66;03m# Convert BytesIO or file objects passed with an encoding\u001b[39;00m\n",
      "\u001b[1;31mFileNotFoundError\u001b[0m: [Errno 2] No such file or directory: 'Ubicaciones.xlsx'"
     ]
    }
   ],
   "source": [
    "import pandas as pd\n",
    "\n",
    "# URL del archivo Excel en formato raw\n",
    "url_ubicaciones = 'Ubicaciones.xlsx'\n",
    "\n",
    "# Leer el archivo Excel\n",
    "df_ubicaciones = pd.read_excel(url_ubicaciones, engine='openpyxl')\n",
    "\n",
    "# Quitar espacios en blanco de todas las columnas\n",
    "df_ubicaciones = df_ubicaciones.apply(lambda x: x.str.strip() if x.dtype == \"object\" else x)\n",
    "\n",
    "# Convertir todos los datos a minúsculas y poner la primera letra de cada palabra en mayúscula\n",
    "df_ubicaciones = df_ubicaciones.apply(lambda x: x.str.title() if x.dtype == \"object\" else x)\n",
    "\n",
    "# Mostrar las primeras filas del DataFrame\n",
    "print(df_ubicaciones.head())\n"
   ]
  },
  {
   "cell_type": "code",
   "execution_count": 300,
   "id": "66904b7a-a7bd-4076-91a5-4fd1a64884ea",
   "metadata": {
    "tags": []
   },
   "outputs": [
    {
     "name": "stdout",
     "output_type": "stream",
     "text": [
      "Cabeceras del DataFrame:\n",
      "['Provincia', 'Canton', 'Parroquia']\n"
     ]
    }
   ],
   "source": [
    "import pandas as pd\n",
    "\n",
    "# Supongamos que df_ubicaciones ya está definido\n",
    "# Eliminar filas donde la Parroquia sea \"Ecuador\"\n",
    "df_ubicaciones = df_ubicaciones.drop(df_ubicaciones[df_ubicaciones['Parroquia'] == \"Ecuador\"].index)\n",
    "\n",
    "# Listar las cabeceras (nombres de las columnas)\n",
    "print(\"Cabeceras del DataFrame:\")\n",
    "print(df_ubicaciones.columns.tolist())  # Convierte los nombres de las columnas a una lista\n",
    "\n"
   ]
  },
  {
   "cell_type": "code",
   "execution_count": 302,
   "id": "36b65861-f531-4e8c-8230-aeb7df1c76cc",
   "metadata": {
    "tags": []
   },
   "outputs": [
    {
     "name": "stdout",
     "output_type": "stream",
     "text": [
      "  Familia     Genero      Especie     Pais   Provincia ProvinciaOK Canton  \\\n",
      "0  Apidae   Melitoma  segmentaria  Ecuador  Esmeraldas  esmeraldas          \n",
      "1  Apidae   Melitoma  segmentaria  Ecuador  Esmeraldas  esmeraldas          \n",
      "2  Apidae   Melitoma  segmentaria  Ecuador      Guayas      guayas          \n",
      "3  Apidae  Epicharis      rustica  Ecuador  Esmeraldas  esmeraldas          \n",
      "4  Apidae  Epicharis      rustica  Ecuador     Pastaza     pastaza          \n",
      "\n",
      "  CantonOK  Localidad  Latitud  Longitud Altitud  \n",
      "0           San Mateo  0.89169 -79.63306          \n",
      "1           San Mateo  0.89169 -79.63306          \n",
      "2           Guayaquil -2.20584 -79.90795          \n",
      "3           San Mateo  0.89169 -79.63306          \n",
      "4                Topo                             \n"
     ]
    }
   ],
   "source": [
    "from fuzzywuzzy import fuzz\n",
    "import pandas as pd\n",
    "import numpy as np\n",
    "\n",
    "# Asumimos que 'nuevo_df' y 'df_ubicaciones' ya están cargados correctamente\n",
    "\n",
    "# Creamos una lista de las provincias de df_ubicaciones (sin duplicados) en minúsculas\n",
    "provincias_ubicaciones = df_ubicaciones['Provincia'].str.lower().unique()\n",
    "\n",
    "# Definir una función para obtener la provincia más similar de df_ubicaciones usando fuzz.partial_ratio\n",
    "def obtener_similitud_mejor(provincia_nueva, provincias_ubicaciones):\n",
    "    # Usamos fuzz.partial_ratio para comparar la provincia completa con la provincia más corta\n",
    "    similitudes = np.array([fuzz.partial_ratio(provincia_nueva, provincia) for provincia in provincias_ubicaciones])\n",
    "    \n",
    "    # Buscamos el índice del valor más alto que sea mayor al 70%\n",
    "    max_similitud_idx = np.argmax(similitudes)\n",
    "    if similitudes[max_similitud_idx] > 70:  # Ajustado a 70% de similitud\n",
    "        return provincias_ubicaciones[max_similitud_idx]\n",
    "    else:\n",
    "        return None\n",
    "\n",
    "# Aplicar la función a cada fila del DataFrame nuevo_df\n",
    "nuevo_df['ProvinciaOK'] = nuevo_df['Provincia'].str.lower().apply(lambda x: obtener_similitud_mejor(x, provincias_ubicaciones))\n",
    "\n",
    "# Mostrar el DataFrame con la columna 'ProvinciaOK' actualizada\n",
    "print(nuevo_df.head())\n"
   ]
  },
  {
   "cell_type": "code",
   "execution_count": 304,
   "id": "ef156c30-2aa0-4358-9180-b238c917e2e0",
   "metadata": {
    "tags": []
   },
   "outputs": [],
   "source": [
    "# Guardar el nuevo dataframe en un archivo Excel\n",
    "nuevo_df.to_excel('con_provinciaOK.xlsx', index=False)"
   ]
  },
  {
   "cell_type": "code",
   "execution_count": 305,
   "id": "d56dc927-714d-4d47-b894-2fa4c4d4b7d8",
   "metadata": {
    "tags": []
   },
   "outputs": [
    {
     "name": "stdout",
     "output_type": "stream",
     "text": [
      "  Familia     Genero      Especie     Pais   Provincia ProvinciaOK Canton  \\\n",
      "0  Apidae   Melitoma  segmentaria  Ecuador  Esmeraldas  esmeraldas          \n",
      "1  Apidae   Melitoma  segmentaria  Ecuador  Esmeraldas  esmeraldas          \n",
      "2  Apidae   Melitoma  segmentaria  Ecuador      Guayas      guayas          \n",
      "3  Apidae  Epicharis      rustica  Ecuador  Esmeraldas  esmeraldas          \n",
      "4  Apidae  Epicharis      rustica  Ecuador     Pastaza     pastaza          \n",
      "\n",
      "  CantonOK  Localidad  Latitud  Longitud Altitud  \n",
      "0     None  San Mateo  0.89169 -79.63306          \n",
      "1     None  San Mateo  0.89169 -79.63306          \n",
      "2     None  Guayaquil -2.20584 -79.90795          \n",
      "3     None  San Mateo  0.89169 -79.63306          \n",
      "4     None       Topo                             \n"
     ]
    }
   ],
   "source": [
    "from fuzzywuzzy import fuzz\n",
    "import pandas as pd\n",
    "import numpy as np\n",
    "\n",
    "# Asumimos que 'nuevo_df' y 'df_ubicaciones' ya están cargados correctamente\n",
    "\n",
    "# Creamos una lista de los cantones de df_ubicaciones (sin duplicados) en minúsculas\n",
    "canton_ubicaciones = df_ubicaciones['Canton'].str.lower().unique()\n",
    "\n",
    "# Definir una función para obtener el canton más similar de df_ubicaciones usando fuzz.partial_ratio\n",
    "def obtener_similitud_mejor(localidad_nueva, canton_ubicaciones):\n",
    "    # Usamos fuzz.partial_ratio para comparar la localidad completa con el canton más corto\n",
    "    similitudes = np.array([fuzz.partial_ratio(localidad_nueva, canton) for canton in canton_ubicaciones])\n",
    "    \n",
    "    # Buscamos el índice del valor más alto que sea mayor al 70%\n",
    "    max_similitud_idx = np.argmax(similitudes)\n",
    "    if similitudes[max_similitud_idx] > 80:  # Ajustado a 70% de similitud\n",
    "        return canton_ubicaciones[max_similitud_idx]\n",
    "    else:\n",
    "        return None\n",
    "\n",
    "# Aplicar la función a cada fila del DataFrame nuevo_df\n",
    "nuevo_df['CantonOK'] = nuevo_df['Canton'].str.lower().apply(lambda x: obtener_similitud_mejor(x, canton_ubicaciones))\n",
    "\n",
    "# Mostrar el DataFrame con la columna 'CantonOK' actualizada\n",
    "print(nuevo_df.head())\n"
   ]
  },
  {
   "cell_type": "code",
   "execution_count": 308,
   "id": "88cced2b-2b36-45df-a786-2a70cfe5de71",
   "metadata": {
    "tags": []
   },
   "outputs": [],
   "source": [
    "# Guardar el nuevo dataframe en un archivo Excel\n",
    "nuevo_df.to_excel('con_ProvCanton.xlsx', index=False)"
   ]
  },
  {
   "cell_type": "code",
   "execution_count": 310,
   "id": "008e1ee9-e238-4306-989e-4ead1f0ae16b",
   "metadata": {
    "tags": []
   },
   "outputs": [
    {
     "name": "stdout",
     "output_type": "stream",
     "text": [
      "  Familia     Genero      Especie     Pais   Provincia ProvinciaOK Canton  \\\n",
      "0  Apidae   Melitoma  segmentaria  Ecuador  Esmeraldas  esmeraldas          \n",
      "1  Apidae   Melitoma  segmentaria  Ecuador  Esmeraldas  esmeraldas          \n",
      "2  Apidae   Melitoma  segmentaria  Ecuador      Guayas      guayas          \n",
      "3  Apidae  Epicharis      rustica  Ecuador  Esmeraldas  esmeraldas          \n",
      "4  Apidae  Epicharis      rustica  Ecuador     Pastaza     pastaza          \n",
      "\n",
      "    CantonOK  Localidad  Latitud  Longitud Altitud  \n",
      "0       None  San Mateo  0.89169 -79.63306          \n",
      "1       None  San Mateo  0.89169 -79.63306          \n",
      "2  guayaquil  Guayaquil -2.20584 -79.90795          \n",
      "3       None  San Mateo  0.89169 -79.63306          \n",
      "4       None       Topo                             \n"
     ]
    }
   ],
   "source": [
    "from fuzzywuzzy import fuzz\n",
    "import pandas as pd\n",
    "import numpy as np\n",
    "\n",
    "# Asumimos que 'nuevo_df' y 'df_ubicaciones' ya están cargados correctamente\n",
    "\n",
    "# Creamos una lista de los cantones de df_ubicaciones (sin duplicados) en minúsculas\n",
    "canton_ubicaciones = df_ubicaciones['Canton'].str.lower().unique()\n",
    "\n",
    "# Definir una función para obtener el canton más similar de df_ubicaciones usando fuzz.partial_ratio\n",
    "def obtener_similitud_mejor(localidad_nueva, canton_ubicaciones):\n",
    "    # Usamos fuzz.partial_ratio para comparar la localidad completa con el canton más corto\n",
    "    similitudes = np.array([fuzz.partial_ratio(localidad_nueva, canton) for canton in canton_ubicaciones])\n",
    "    \n",
    "    # Buscamos el índice del valor más alto que sea mayor al 70%\n",
    "    max_similitud_idx = np.argmax(similitudes)\n",
    "    if similitudes[max_similitud_idx] > 85:  # Ajustado a 70% de similitud\n",
    "        return canton_ubicaciones[max_similitud_idx]\n",
    "    else:\n",
    "        return None\n",
    "\n",
    "# Función para realizar la búsqueda solo cuando la columna 'CantonOK' está vacía\n",
    "def obtener_canton_si_necesario(row, canton_ubicaciones):\n",
    "    # Si 'CantonOK' está vacío, buscamos en 'Localidad'\n",
    "    if pd.isnull(row['CantonOK']) or row['CantonOK'] == '':\n",
    "        canton_nueva = row['Localidad']  # Obtener la localidad\n",
    "        canton_ok = obtener_similitud_mejor(canton_nueva, canton_ubicaciones)  # Buscar similitud\n",
    "        return canton_ok\n",
    "    else:\n",
    "        # Si ya tiene valor en 'CantonOK', no hacer nada y devolver el valor original\n",
    "        return row['CantonOK']\n",
    "\n",
    "# Aplicar la función a cada fila del DataFrame nuevo_df\n",
    "nuevo_df['CantonOK'] = nuevo_df.apply(lambda row: obtener_canton_si_necesario(row, canton_ubicaciones), axis=1)\n",
    "\n",
    "# Mostrar el DataFrame con la columna 'CantonOK' actualizada\n",
    "print(nuevo_df.head())\n",
    "\n"
   ]
  },
  {
   "cell_type": "code",
   "execution_count": 312,
   "id": "77ce106a-bf58-4019-8ba0-9693a0c6783a",
   "metadata": {
    "tags": []
   },
   "outputs": [],
   "source": [
    "# Guardar el nuevo dataframe en un archivo Excel\n",
    "nuevo_df.to_excel('con_ProvCantonOK.xlsx', index=False)"
   ]
  },
  {
   "cell_type": "code",
   "execution_count": 314,
   "id": "2d12dd2b-a8b9-4dc3-891f-49aa66f20d3c",
   "metadata": {
    "tags": []
   },
   "outputs": [
    {
     "name": "stdout",
     "output_type": "stream",
     "text": [
      "  Familia     Genero      Especie     Pais   Provincia ProvinciaOK Canton  \\\n",
      "0  Apidae   Melitoma  segmentaria  Ecuador  Esmeraldas  esmeraldas          \n",
      "1  Apidae   Melitoma  segmentaria  Ecuador  Esmeraldas  esmeraldas          \n",
      "2  Apidae   Melitoma  segmentaria  Ecuador      Guayas      guayas          \n",
      "3  Apidae  Epicharis      rustica  Ecuador  Esmeraldas  esmeraldas          \n",
      "4  Apidae  Epicharis      rustica  Ecuador     Pastaza     pastaza          \n",
      "\n",
      "    CantonOK  Localidad  Latitud  Longitud Altitud  \n",
      "0       None  San Mateo  0.89169 -79.63306          \n",
      "1       None  San Mateo  0.89169 -79.63306          \n",
      "2  guayaquil  Guayaquil -2.20584 -79.90795          \n",
      "3       None  San Mateo  0.89169 -79.63306          \n",
      "4       None       Topo                             \n"
     ]
    }
   ],
   "source": [
    "from fuzzywuzzy import fuzz\n",
    "import pandas as pd\n",
    "import numpy as np\n",
    "\n",
    "# Asumimos que 'nuevo_df' y 'df_ubicaciones' ya están cargados correctamente\n",
    "\n",
    "# Creamos una lista de las provincias de df_ubicaciones (sin duplicados) en minúsculas\n",
    "provincias_ubicaciones = df_ubicaciones['Provincia'].str.lower().unique()\n",
    "\n",
    "# Definir una función para obtener la provincia más similar de df_ubicaciones usando fuzz.partial_ratio\n",
    "def obtener_similitud_mejor(provincia_nueva, provincias_ubicaciones):\n",
    "    # Usamos fuzz.partial_ratio para comparar la provincia completa con la provincia más corta\n",
    "    similitudes = np.array([fuzz.partial_ratio(provincia_nueva, provincia) for provincia in provincias_ubicaciones])\n",
    "    \n",
    "    # Buscamos el índice del valor más alto que sea mayor al 70%\n",
    "    max_similitud_idx = np.argmax(similitudes)\n",
    "    if similitudes[max_similitud_idx] > 70:  # Ajustado a 70% de similitud\n",
    "        return provincias_ubicaciones[max_similitud_idx]\n",
    "    else:\n",
    "        return None\n",
    "\n",
    "# Definir una función que haga la búsqueda en `Provincia` o `Localidad` según corresponda\n",
    "def obtener_provincia_o_localidad(row, provincias_ubicaciones):\n",
    "    # Si 'ProvinciaOK' está vacío, buscamos en 'Localidad'\n",
    "    if pd.isnull(row['ProvinciaOK']) or row['ProvinciaOK'] == '':\n",
    "        # Buscar en Localidad si ProvinciaOK está vacío\n",
    "        localidad_nueva = row['Localidad'].lower()  # Convertir a minúsculas para comparación\n",
    "        return obtener_similitud_mejor(localidad_nueva, provincias_ubicaciones)\n",
    "    else:\n",
    "        # Si ya tiene valor en 'ProvinciaOK', no hacer nada\n",
    "        return row['ProvinciaOK']\n",
    "\n",
    "# Aplicar la función a cada fila del DataFrame nuevo_df\n",
    "nuevo_df['ProvinciaOK'] = nuevo_df.apply(lambda row: obtener_provincia_o_localidad(row, provincias_ubicaciones), axis=1)\n",
    "\n",
    "# Mostrar el DataFrame con la columna 'ProvinciaOK' actualizada\n",
    "print(nuevo_df.head())\n"
   ]
  },
  {
   "cell_type": "code",
   "execution_count": 316,
   "id": "c0480f5a-2e92-45fb-9e99-f0153f1c1f25",
   "metadata": {
    "tags": []
   },
   "outputs": [],
   "source": [
    "# Guardar el nuevo dataframe en un archivo Excel\n",
    "nuevo_df.to_excel('con_ProvCompletada.xlsx', index=False)"
   ]
  },
  {
   "cell_type": "code",
   "execution_count": 318,
   "id": "2737e4dc-bb1d-4830-be60-b4610b56863f",
   "metadata": {},
   "outputs": [
    {
     "name": "stdout",
     "output_type": "stream",
     "text": [
      "  Familia     Genero      Especie     Pais   Provincia ProvinciaOK Canton  \\\n",
      "0  Apidae   Melitoma  segmentaria  Ecuador  Esmeraldas  esmeraldas          \n",
      "1  Apidae   Melitoma  segmentaria  Ecuador  Esmeraldas  esmeraldas          \n",
      "2  Apidae   Melitoma  segmentaria  Ecuador      Guayas      guayas          \n",
      "3  Apidae  Epicharis      rustica  Ecuador  Esmeraldas  esmeraldas          \n",
      "4  Apidae  Epicharis      rustica  Ecuador     Pastaza     pastaza          \n",
      "\n",
      "    CantonOK  Localidad  Latitud  Longitud Altitud  \n",
      "0       None  San Mateo  0.89169 -79.63306          \n",
      "1       None  San Mateo  0.89169 -79.63306          \n",
      "2  guayaquil  Guayaquil -2.20584 -79.90795          \n",
      "3       None  San Mateo  0.89169 -79.63306          \n",
      "4       None       Topo                             \n"
     ]
    }
   ],
   "source": [
    "from fuzzywuzzy import fuzz\n",
    "import pandas as pd\n",
    "import numpy as np\n",
    "\n",
    "# Asumimos que 'nuevo_df' y 'df_ubicaciones' ya están cargados correctamente\n",
    "\n",
    "# Crear una lista de los cantones de df_ubicaciones (sin duplicados) en minúsculas\n",
    "canton_ubicaciones = df_ubicaciones['Canton'].str.lower().unique()\n",
    "\n",
    "# Definir una función para obtener el canton más similar de df_ubicaciones usando fuzz.partial_ratio\n",
    "def obtener_similitud_mejor(localidad_nueva, canton_ubicaciones):\n",
    "    # Usamos fuzz.partial_ratio para comparar la localidad completa con el canton más corto\n",
    "    similitudes = np.array([fuzz.partial_ratio(localidad_nueva, canton) for canton in canton_ubicaciones])\n",
    "    \n",
    "    # Buscamos el índice del valor más alto que sea mayor al 70% de similitud\n",
    "    max_similitud_idx = np.argmax(similitudes)\n",
    "    if similitudes[max_similitud_idx] > 80:  # Ajustado a 70% de similitud\n",
    "        return canton_ubicaciones[max_similitud_idx]\n",
    "    else:\n",
    "        return None\n",
    "\n",
    "# Definir una función que haga la búsqueda en `Localidad` solo si `CantonOK` está vacío\n",
    "def obtener_canton_si_necesario(row, canton_ubicaciones):\n",
    "    # Si 'CantonOK' está vacío, buscamos en 'Localidad'\n",
    "    if pd.isnull(row['CantonOK']) or row['CantonOK'] == '':\n",
    "        # Buscar en Localidad si CantonOK está vacío\n",
    "        localidad_nueva = row['Localidad'].lower()  # Convertir a minúsculas para comparación\n",
    "        canton_ok = obtener_similitud_mejor(localidad_nueva, canton_ubicaciones)\n",
    "        return canton_ok\n",
    "    else:\n",
    "        # Si ya tiene valor en 'CantonOK', no hacer nada y devolver el valor original\n",
    "        return row['CantonOK']\n",
    "\n",
    "# Aplicar la función a cada fila del DataFrame nuevo_df\n",
    "nuevo_df['CantonOK'] = nuevo_df.apply(lambda row: obtener_canton_si_necesario(row, canton_ubicaciones), axis=1)\n",
    "\n",
    "# Mostrar el DataFrame con la columna 'CantonOK' actualizada\n",
    "print(nuevo_df.head())\n"
   ]
  },
  {
   "cell_type": "code",
   "execution_count": 320,
   "id": "4b3bd2f9-46c9-4144-b6d3-e161d599407d",
   "metadata": {
    "tags": []
   },
   "outputs": [],
   "source": [
    "# Guardar el nuevo dataframe en un archivo Excel\n",
    "nuevo_df.to_excel('con_CantonCompletado.xlsx', index=False)"
   ]
  },
  {
   "cell_type": "code",
   "execution_count": null,
   "id": "7ee8a020-5fb9-4240-9c95-9f7680ca57aa",
   "metadata": {},
   "outputs": [],
   "source": []
  }
 ],
 "metadata": {
  "kernelspec": {
   "display_name": "Python 3 (ipykernel)",
   "language": "python",
   "name": "python3"
  },
  "language_info": {
   "codemirror_mode": {
    "name": "ipython",
    "version": 3
   },
   "file_extension": ".py",
   "mimetype": "text/x-python",
   "name": "python",
   "nbconvert_exporter": "python",
   "pygments_lexer": "ipython3",
   "version": "3.11.7"
  }
 },
 "nbformat": 4,
 "nbformat_minor": 5
}
