{
 "cells": [
  {
   "cell_type": "code",
   "execution_count": 595,
   "id": "ff36ecce-aef1-4ca5-8861-1d786c8bf4ec",
   "metadata": {
    "tags": []
   },
   "outputs": [
    {
     "name": "stdout",
     "output_type": "stream",
     "text": [
      "                                    Ubicacion   Latitud   Longitud Familia  \\\n",
      "0                               Sucre  Manabi -0.105481 -80.150883  Apidae   \n",
      "1                               Sucre  Manabi -0.105717 -80.150756  Apidae   \n",
      "2       Jama  Canton of Jama  Manabi Province -0.183330 -80.266670  Apidae   \n",
      "3                                isla isabela -0.829237 -91.135302  Apidae   \n",
      "4                  Santa Cruz  GalÃ¡pagos  EC -0.741832 -90.308680  Apidae   \n",
      "...                                       ...       ...        ...     ...   \n",
      "6660  MATILDE ALVAREZ Y Oe4 (1)  170146 Quito -0.285283 -78.552277  Apidae   \n",
      "6661                             zona1  Quito -0.167853 -78.482331  Apidae   \n",
      "6662                                Latacunga -0.753611 -78.664974  Apidae   \n",
      "6663                                Tanicuchi -0.753790 -78.664810  Apidae   \n",
      "6664                        9V29+F48  Palanda -4.648836 -79.132267  Apidae   \n",
      "\n",
      "              Genero-ESPECIE  \n",
      "0             Apis mellifera  \n",
      "1     Tetragonisca angustula  \n",
      "2             Apis mellifera  \n",
      "3           Xylocopa darwini  \n",
      "4           Xylocopa darwini  \n",
      "...                      ...  \n",
      "6660          Apis mellifera  \n",
      "6661          Apis mellifera  \n",
      "6662          Apis mellifera  \n",
      "6663         Bombus robustus  \n",
      "6664          Apis mellifera  \n",
      "\n",
      "[6665 rows x 5 columns]\n"
     ]
    }
   ],
   "source": [
    "import pandas as pd \n",
    "\n",
    "# URL del archivo Excel en formato raw\n",
    "url = 'https://github.com/unir-henry/henry/raw/main/Apidae_iNaturalist_LIMPIA.xlsx'\n",
    "\n",
    "# Leer el archivo Excel\n",
    "df = pd.read_excel(url, engine='openpyxl', sheet_name=0)\n",
    "\n",
    "# Crear una nueva columna 'Ubicacion' que unifique las columnas deseadas\n",
    "df['Ubicacion'] = df[['Ubicación', 1, 2, 3, 4, 5, 6, 7, 8]].apply(lambda x: ' '.join(x.dropna().astype(str)), axis=1)\n",
    "\n",
    "# Limpiar la nueva columna 'Ubicacion' para asegurarnos de que no haya caracteres no deseados\n",
    "df['Ubicacion'] = df['Ubicacion'].str.encode('utf-8', 'ignore').str.decode('utf-8')\n",
    "\n",
    "# Eliminar la palabra \"Ecuador\" de la columna 'Ubicacion'\n",
    "df['Ubicacion'] = df['Ubicacion'].str.replace('Ecuador', '', regex=False)\n",
    "\n",
    "# Quitar espacios en blanco al inicio y al final de la columna 'Ubicacion'\n",
    "df['Ubicacion'] = df['Ubicacion'].str.strip()\n",
    "\n",
    "# Seleccionar las columnas deseadas: 'Ubicacion', 'Latitud', 'Longitud', 'Familia', 'Genero-ESPECIE'\n",
    "nuevo_df = df[['Ubicacion', 'Latitud', 'Longitud', 'Familia', 'Genero-ESPECIE']]\n",
    "\n",
    "# Mostrar el nuevo DataFrame\n",
    "print(nuevo_df)\n",
    "\n"
   ]
  },
  {
   "cell_type": "code",
   "execution_count": 597,
   "id": "96030107-9e1c-4f5f-9725-f2ba86a111ef",
   "metadata": {
    "tags": []
   },
   "outputs": [
    {
     "name": "stdout",
     "output_type": "stream",
     "text": [
      "  Provincia  Canton    Parroquia\n",
      "0     Azuay  Cuenca   Bellavista\n",
      "1     Azuay  Cuenca  Cañaribamba\n",
      "2     Azuay  Cuenca     El Batán\n",
      "3     Azuay  Cuenca  El Sagrario\n",
      "4     Azuay  Cuenca    El Vecino\n"
     ]
    },
    {
     "name": "stderr",
     "output_type": "stream",
     "text": [
      "C:\\Users\\Public\\Documents\\Wondershare\\CreatorTemp\\ipykernel_15512\\2989447434.py:10: FutureWarning: DataFrame.applymap has been deprecated. Use DataFrame.map instead.\n",
      "  df_ubicaciones = df_ubicaciones.applymap(lambda x: x.strip() if isinstance(x, str) else x)\n",
      "C:\\Users\\Public\\Documents\\Wondershare\\CreatorTemp\\ipykernel_15512\\2989447434.py:13: FutureWarning: DataFrame.applymap has been deprecated. Use DataFrame.map instead.\n",
      "  df_ubicaciones = df_ubicaciones.applymap(lambda x: x.title() if isinstance(x, str) else x)\n"
     ]
    }
   ],
   "source": [
    "import pandas as pd\n",
    "\n",
    "# URL del archivo Excel en formato raw\n",
    "url_ubicaciones = 'https://github.com/unir-henry/henry/raw/main/Ubicaciones.xlsx'\n",
    "\n",
    "# Leer el archivo Excel\n",
    "df_ubicaciones = pd.read_excel(url_ubicaciones, engine='openpyxl')\n",
    "\n",
    "# Quitar espacios en blanco de todas las columnas\n",
    "df_ubicaciones = df_ubicaciones.applymap(lambda x: x.strip() if isinstance(x, str) else x)\n",
    "\n",
    "# Convertir todos los datos a minúsculas y poner la primera letra de cada palabra en mayúscula\n",
    "df_ubicaciones = df_ubicaciones.applymap(lambda x: x.title() if isinstance(x, str) else x)\n",
    "\n",
    "# Mostrar las primeras filas del DataFrame\n",
    "print(df_ubicaciones.head())\n",
    "\n"
   ]
  },
  {
   "cell_type": "code",
   "execution_count": 599,
   "id": "66904b7a-a7bd-4076-91a5-4fd1a64884ea",
   "metadata": {
    "tags": []
   },
   "outputs": [
    {
     "name": "stdout",
     "output_type": "stream",
     "text": [
      "                 Provincia           Canton                Parroquia\n",
      "0                    Azuay           Cuenca               Bellavista\n",
      "1                    Azuay           Cuenca              Cañaribamba\n",
      "2                    Azuay           Cuenca                 El Batán\n",
      "3                    Azuay           Cuenca              El Sagrario\n",
      "4                    Azuay           Cuenca                El Vecino\n",
      "...                    ...              ...                      ...\n",
      "1393           Santa Elena          Salinas                Anconcito\n",
      "1394           Santa Elena          Salinas  José Luis Tamayo (Muey)\n",
      "1395  Zonas No Delimitadas  Las Golondrinas          Las Golondrinas\n",
      "1396  Zonas No Delimitadas   Manga Del Cura           Manga Del Cura\n",
      "1397  Zonas No Delimitadas      El Piedrero              El Piedrero\n",
      "\n",
      "[1397 rows x 3 columns]\n"
     ]
    }
   ],
   "source": [
    "import pandas as pd\n",
    "\n",
    "# Supongamos que df_ubicaciones ya está definido\n",
    "# Eliminar filas donde la Parroquia sea \"Ecuador\"\n",
    "df_ubicaciones = df_ubicaciones.drop(df_ubicaciones[df_ubicaciones['Parroquia'] == \"Ecuador\"].index)\n",
    "\n",
    "# Mostrar el DataFrame resultante\n",
    "print(df_ubicaciones)\n"
   ]
  },
  {
   "cell_type": "code",
   "execution_count": 640,
   "id": "2bab2d74-4a42-4062-9022-bec1ee85d4c4",
   "metadata": {
    "tags": []
   },
   "outputs": [
    {
     "name": "stdout",
     "output_type": "stream",
     "text": [
      "                                    Ubicacion   Latitud   Longitud Familia  \\\n",
      "0                               Sucre  Manabi -0.105481 -80.150883  Apidae   \n",
      "1                               Sucre  Manabi -0.105717 -80.150756  Apidae   \n",
      "2       Jama  Canton of Jama  Manabi Province -0.183330 -80.266670  Apidae   \n",
      "3                                isla isabela -0.829237 -91.135302  Apidae   \n",
      "4                  Santa Cruz  GalÃ¡pagos  EC -0.741832 -90.308680  Apidae   \n",
      "...                                       ...       ...        ...     ...   \n",
      "6660  MATILDE ALVAREZ Y Oe4 (1)  170146 Quito -0.285283 -78.552277  Apidae   \n",
      "6661                             zona1  Quito -0.167853 -78.482331  Apidae   \n",
      "6662                                Latacunga -0.753611 -78.664974  Apidae   \n",
      "6663                                Tanicuchi -0.753790 -78.664810  Apidae   \n",
      "6664                        9V29+F48  Palanda -4.648836 -79.132267  Apidae   \n",
      "\n",
      "              Genero-ESPECIE provinciaOK  \n",
      "0             Apis mellifera      manabi  \n",
      "1     Tetragonisca angustula      manabi  \n",
      "2             Apis mellifera      manabi  \n",
      "3           Xylocopa darwini        None  \n",
      "4           Xylocopa darwini        None  \n",
      "...                      ...         ...  \n",
      "6660          Apis mellifera        None  \n",
      "6661          Apis mellifera        None  \n",
      "6662          Apis mellifera        None  \n",
      "6663         Bombus robustus        None  \n",
      "6664          Apis mellifera        None  \n",
      "\n",
      "[6665 rows x 6 columns]\n"
     ]
    },
    {
     "name": "stderr",
     "output_type": "stream",
     "text": [
      "C:\\Users\\Public\\Documents\\Wondershare\\CreatorTemp\\ipykernel_15512\\4092472608.py:26: SettingWithCopyWarning: \n",
      "A value is trying to be set on a copy of a slice from a DataFrame.\n",
      "Try using .loc[row_indexer,col_indexer] = value instead\n",
      "\n",
      "See the caveats in the documentation: https://pandas.pydata.org/pandas-docs/stable/user_guide/indexing.html#returning-a-view-versus-a-copy\n",
      "  nuevo_df['provinciaOK'] = nuevo_df.apply(buscar_provincia_en_ubicacion, axis=1)\n"
     ]
    }
   ],
   "source": [
    "import pandas as pd\n",
    "from fuzzywuzzy import process, fuzz\n",
    "\n",
    "# Asegúrate de que df_ubicaciones esté definido y contenga las columnas necesarias\n",
    "# df_ubicaciones = pd.read_excel('tu_archivo.xlsx')  # Descomenta y ajusta si es necesario\n",
    "\n",
    "# Crear lista de Provincias y un diccionario de Provincias a Provincias\n",
    "provincias = df_ubicaciones['Provincia'].tolist()\n",
    "provincias_normalizadas = [provincia.strip().lower() for provincia in provincias]  # Normaliza provincias\n",
    "\n",
    "# Función para buscar coincidencias en la columna Ubicacion\n",
    "def buscar_provincia_en_ubicacion(row):\n",
    "    if not row['Ubicacion']:  # Comprobar si la ubicación está vacía\n",
    "        return None\n",
    "\n",
    "    ubicacion_normalizada = row['Ubicacion'].strip().lower()  # Normaliza la ubicación\n",
    "\n",
    "    # Comparar con Provincias\n",
    "    match = process.extractOne(ubicacion_normalizada, provincias_normalizadas, scorer=fuzz.token_set_ratio)\n",
    "    if match and match[1] >= 80:  # Ajustar el umbral si es necesario\n",
    "        return match[0]  # Retorna la provincia si hay coincidencia\n",
    "\n",
    "    return None  # Retornar None si no hay coincidencias\n",
    "\n",
    "# Aplicar la función y crear la nueva columna\n",
    "nuevo_df['provinciaOK'] = nuevo_df.apply(buscar_provincia_en_ubicacion, axis=1)\n",
    "\n",
    "# Guardar el nuevo DataFrame en memoria\n",
    "dataset_provincia = nuevo_df[['Ubicacion', 'Latitud', 'Longitud', 'Familia', 'Genero-ESPECIE', 'provinciaOK']]\n",
    "\n",
    "# Mostrar el contenido del DataFrame\n",
    "print(dataset_provincia)\n"
   ]
  },
  {
   "cell_type": "code",
   "execution_count": 643,
   "id": "ef156c30-2aa0-4358-9180-b238c917e2e0",
   "metadata": {
    "tags": []
   },
   "outputs": [],
   "source": [
    "# Guardar el nuevo dataframe en un archivo Excel\n",
    "dataset_provincia.to_excel('con_provinciaOK.xlsx', index=False)\n"
   ]
  },
  {
   "cell_type": "code",
   "execution_count": 647,
   "id": "a499c06f-3aa6-48bd-b2f0-39e840c1a19e",
   "metadata": {
    "tags": []
   },
   "outputs": [
    {
     "name": "stderr",
     "output_type": "stream",
     "text": [
      "WARNING:root:Applied processor reduces input query to empty string, all comparisons will have score 0. [Query: '']\n",
      "WARNING:root:Applied processor reduces input query to empty string, all comparisons will have score 0. [Query: '']\n",
      "WARNING:root:Applied processor reduces input query to empty string, all comparisons will have score 0. [Query: '']\n",
      "WARNING:root:Applied processor reduces input query to empty string, all comparisons will have score 0. [Query: '']\n",
      "WARNING:root:Applied processor reduces input query to empty string, all comparisons will have score 0. [Query: '']\n",
      "WARNING:root:Applied processor reduces input query to empty string, all comparisons will have score 0. [Query: '']\n",
      "WARNING:root:Applied processor reduces input query to empty string, all comparisons will have score 0. [Query: '']\n",
      "WARNING:root:Applied processor reduces input query to empty string, all comparisons will have score 0. [Query: '']\n",
      "WARNING:root:Applied processor reduces input query to empty string, all comparisons will have score 0. [Query: '']\n",
      "WARNING:root:Applied processor reduces input query to empty string, all comparisons will have score 0. [Query: '']\n",
      "WARNING:root:Applied processor reduces input query to empty string, all comparisons will have score 0. [Query: '']\n",
      "WARNING:root:Applied processor reduces input query to empty string, all comparisons will have score 0. [Query: '']\n",
      "WARNING:root:Applied processor reduces input query to empty string, all comparisons will have score 0. [Query: '']\n",
      "WARNING:root:Applied processor reduces input query to empty string, all comparisons will have score 0. [Query: '']\n",
      "WARNING:root:Applied processor reduces input query to empty string, all comparisons will have score 0. [Query: '']\n"
     ]
    },
    {
     "name": "stdout",
     "output_type": "stream",
     "text": [
      "                                    Ubicacion   Latitud   Longitud Familia  \\\n",
      "0                               Sucre  Manabi -0.105481 -80.150883  Apidae   \n",
      "1                               Sucre  Manabi -0.105717 -80.150756  Apidae   \n",
      "2       Jama  Canton of Jama  Manabi Province -0.183330 -80.266670  Apidae   \n",
      "3                                isla isabela -0.829237 -91.135302  Apidae   \n",
      "4                  Santa Cruz  GalÃ¡pagos  EC -0.741832 -90.308680  Apidae   \n",
      "...                                       ...       ...        ...     ...   \n",
      "6660  MATILDE ALVAREZ Y Oe4 (1)  170146 Quito -0.285283 -78.552277  Apidae   \n",
      "6661                             zona1  Quito -0.167853 -78.482331  Apidae   \n",
      "6662                                Latacunga -0.753611 -78.664974  Apidae   \n",
      "6663                                Tanicuchi -0.753790 -78.664810  Apidae   \n",
      "6664                        9V29+F48  Palanda -4.648836 -79.132267  Apidae   \n",
      "\n",
      "              Genero-ESPECIE       provinciaOK  \n",
      "0             Apis mellifera            manabi  \n",
      "1     Tetragonisca angustula            manabi  \n",
      "2             Apis mellifera            manabi  \n",
      "3           Xylocopa darwini         Galapagos  \n",
      "4           Xylocopa darwini         Galapagos  \n",
      "...                      ...               ...  \n",
      "6660          Apis mellifera         Pichincha  \n",
      "6661          Apis mellifera         Pichincha  \n",
      "6662          Apis mellifera          Cotopaxi  \n",
      "6663         Bombus robustus              None  \n",
      "6664          Apis mellifera  Zamora Chinchipe  \n",
      "\n",
      "[6665 rows x 6 columns]\n"
     ]
    },
    {
     "name": "stderr",
     "output_type": "stream",
     "text": [
      "C:\\Users\\Public\\Documents\\Wondershare\\CreatorTemp\\ipykernel_15512\\2138829396.py:30: SettingWithCopyWarning: \n",
      "A value is trying to be set on a copy of a slice from a DataFrame.\n",
      "Try using .loc[row_indexer,col_indexer] = value instead\n",
      "\n",
      "See the caveats in the documentation: https://pandas.pydata.org/pandas-docs/stable/user_guide/indexing.html#returning-a-view-versus-a-copy\n",
      "  nuevo_df['provinciaOK'] = nuevo_df.apply(buscar_provincia_en_ubicacion, axis=1)\n"
     ]
    }
   ],
   "source": [
    "import pandas as pd\n",
    "from fuzzywuzzy import process, fuzz\n",
    "\n",
    "# Asegúrate de que df_ubicaciones esté definido y contenga las columnas necesarias\n",
    "# df_ubicaciones = pd.read_excel('tu_archivo.xlsx')  # Descomenta y ajusta si es necesario\n",
    "\n",
    "# Crear lista de Cantones y un diccionario de Cantones a Provincias\n",
    "cantones = df_ubicaciones['Canton'].tolist()\n",
    "canton_provincia = df_ubicaciones.set_index('Canton')['Provincia'].to_dict()\n",
    "\n",
    "# Normaliza los cantones para que sean todos minúsculas\n",
    "cantones_normalizados = [canton.strip().lower() for canton in cantones]\n",
    "canton_provincia_normalizado = {canton.strip().lower(): provincia for canton, provincia in canton_provincia.items()}\n",
    "\n",
    "# Función para buscar la provincia correspondiente al canton en la columna Ubicacion\n",
    "def buscar_provincia_en_ubicacion(row):\n",
    "    # Solo proceder si la columna 'provinciaOK' está vacía\n",
    "    if pd.isna(row['provinciaOK']):\n",
    "        ubicacion_normalizada = row['Ubicacion'].strip().lower()  # Normaliza la ubicación\n",
    "        # Busca el canton en la ubicación\n",
    "        match = process.extractOne(ubicacion_normalizada, cantones_normalizados, scorer=fuzz.token_set_ratio)\n",
    "\n",
    "        if match and match[1] >= 80:  # Ajusta el umbral si es necesario\n",
    "            provincia = canton_provincia_normalizado.get(match[0])  # Obtiene la provincia\n",
    "            return provincia\n",
    "\n",
    "    return row['provinciaOK']  # Retornar el valor actual de provinciaOK si ya está lleno\n",
    "\n",
    "# Aplicar la función para buscar provincias en la columna 'Ubicacion'\n",
    "nuevo_df['provinciaOK'] = nuevo_df.apply(buscar_provincia_en_ubicacion, axis=1)\n",
    "\n",
    "# Guardar el nuevo DataFrame en memoria\n",
    "dataset_procanton = nuevo_df[['Ubicacion', 'Latitud', 'Longitud', 'Familia', 'Genero-ESPECIE', 'provinciaOK']]\n",
    "\n",
    "# Mostrar el contenido del DataFrame\n",
    "print(dataset_procanton)\n"
   ]
  },
  {
   "cell_type": "code",
   "execution_count": 649,
   "id": "88cced2b-2b36-45df-a786-2a70cfe5de71",
   "metadata": {
    "tags": []
   },
   "outputs": [],
   "source": [
    "# Guardar el nuevo dataframe en un archivo Excel\n",
    "dataset_procanton.to_excel('con_ProvCanton.xlsx', index=False)"
   ]
  },
  {
   "cell_type": "code",
   "execution_count": 653,
   "id": "9756e1a3-4fc7-453a-8eb7-7f32d8bd5d65",
   "metadata": {
    "tags": []
   },
   "outputs": [
    {
     "name": "stdout",
     "output_type": "stream",
     "text": [
      "                                    Ubicacion   Latitud   Longitud Familia  \\\n",
      "0                               Sucre  Manabi -0.105481 -80.150883  Apidae   \n",
      "1                               Sucre  Manabi -0.105717 -80.150756  Apidae   \n",
      "2       Jama  Canton of Jama  Manabi Province -0.183330 -80.266670  Apidae   \n",
      "3                                isla isabela -0.829237 -91.135302  Apidae   \n",
      "4                  Santa Cruz  GalÃ¡pagos  EC -0.741832 -90.308680  Apidae   \n",
      "...                                       ...       ...        ...     ...   \n",
      "6660  MATILDE ALVAREZ Y Oe4 (1)  170146 Quito -0.285283 -78.552277  Apidae   \n",
      "6661                             zona1  Quito -0.167853 -78.482331  Apidae   \n",
      "6662                                Latacunga -0.753611 -78.664974  Apidae   \n",
      "6663                                Tanicuchi -0.753790 -78.664810  Apidae   \n",
      "6664                        9V29+F48  Palanda -4.648836 -79.132267  Apidae   \n",
      "\n",
      "              Genero-ESPECIE       provinciaOK  \n",
      "0             Apis mellifera            manabi  \n",
      "1     Tetragonisca angustula            manabi  \n",
      "2             Apis mellifera            manabi  \n",
      "3           Xylocopa darwini         Galapagos  \n",
      "4           Xylocopa darwini         Galapagos  \n",
      "...                      ...               ...  \n",
      "6660          Apis mellifera         Pichincha  \n",
      "6661          Apis mellifera         Pichincha  \n",
      "6662          Apis mellifera          Cotopaxi  \n",
      "6663         Bombus robustus          Cotopaxi  \n",
      "6664          Apis mellifera  Zamora Chinchipe  \n",
      "\n",
      "[6665 rows x 6 columns]\n"
     ]
    },
    {
     "name": "stderr",
     "output_type": "stream",
     "text": [
      "C:\\Users\\Public\\Documents\\Wondershare\\CreatorTemp\\ipykernel_15512\\530121484.py:44: SettingWithCopyWarning: \n",
      "A value is trying to be set on a copy of a slice from a DataFrame.\n",
      "Try using .loc[row_indexer,col_indexer] = value instead\n",
      "\n",
      "See the caveats in the documentation: https://pandas.pydata.org/pandas-docs/stable/user_guide/indexing.html#returning-a-view-versus-a-copy\n",
      "  nuevo_df['provinciaOK'] = nuevo_df.apply(buscar_provincia, axis=1)\n"
     ]
    }
   ],
   "source": [
    "import pandas as pd\n",
    "from fuzzywuzzy import process, fuzz\n",
    "\n",
    "# Asegúrate de que df_ubicaciones esté definido y tenga las columnas necesarias\n",
    "# df_ubicaciones = pd.read_excel('tu_archivo.xlsx')  # Carga el DataFrame si es necesario\n",
    "\n",
    "# Crear lista de Parroquias y un diccionario de Parroquias a Provincias\n",
    "parroquias = df_ubicaciones['Parroquia'].tolist()\n",
    "parroquia_provincia = df_ubicaciones.set_index('Parroquia')['Provincia'].to_dict()\n",
    "\n",
    "# Normaliza las parroquias\n",
    "parroquias = [p.strip().lower() for p in parroquias]\n",
    "parroquia_provincia = {p.strip().lower(): provincia for p, provincia in parroquia_provincia.items()}\n",
    "\n",
    "# Función para buscar coincidencias en Parroquias\n",
    "def buscar_parroquia(ubicacion):\n",
    "    if not ubicacion:  # Comprobar si la ubicación está vacía\n",
    "        return None\n",
    "\n",
    "    # Normaliza la ubicación\n",
    "    ubicacion_normalizada = ubicacion.strip().lower()\n",
    "    match = process.extractOne(ubicacion_normalizada, parroquias, scorer=fuzz.token_set_ratio)\n",
    "    \n",
    "    if match and match[1] >= 80:  # Ajustar el umbral si es necesario\n",
    "        provincia = parroquia_provincia.get(match[0])  # Busca la provincia normalizada\n",
    "        return provincia\n",
    "\n",
    "    return None  # Retornar None si no hay coincidencias\n",
    "\n",
    "# Función para buscar provincias a partir de la ubicación\n",
    "def buscar_provincia(row):\n",
    "    # Si provinciaOK ya tiene un valor, retornar ese valor\n",
    "    if pd.notna(row.get('provinciaOK')) and row['provinciaOK'] != '':\n",
    "        return row['provinciaOK']\n",
    "    \n",
    "    # Buscar por parroquia\n",
    "    provincia = buscar_parroquia(row['Ubicacion'])\n",
    "    return provincia  # Retorna la provincia encontrada\n",
    "\n",
    "# Asegúrate de que nuevo_df esté definido y contenga la columna 'Ubicacion'\n",
    "# nuevo_df = pd.DataFrame(...)  # Carga el DataFrame si es necesario\n",
    "\n",
    "# Aplicar la función para buscar Parroquias y crear la nueva columna provinciaOK\n",
    "nuevo_df['provinciaOK'] = nuevo_df.apply(buscar_provincia, axis=1)\n",
    "\n",
    "# Guardar el nuevo DataFrame en memoria con el nombre ProvCanParroquia\n",
    "ProvCanParroquia = nuevo_df[['Ubicacion', 'Latitud', 'Longitud', 'Familia', 'Genero-ESPECIE', 'provinciaOK']]\n",
    "\n",
    "# Mostrar el contenido del DataFrame\n",
    "print(ProvCanParroquia)\n"
   ]
  },
  {
   "cell_type": "code",
   "execution_count": 655,
   "id": "c0480f5a-2e92-45fb-9e99-f0153f1c1f25",
   "metadata": {
    "tags": []
   },
   "outputs": [],
   "source": [
    "# Guardar el nuevo dataframe en un archivo Excel\n",
    "ProvCanParroquia.to_excel('con_ProvCantonParroquia.xlsx', index=False)"
   ]
  },
  {
   "cell_type": "code",
   "execution_count": 697,
   "id": "5bd26e78-6e54-4571-8eea-6e2584d39c3b",
   "metadata": {
    "tags": []
   },
   "outputs": [
    {
     "name": "stdout",
     "output_type": "stream",
     "text": [
      "                                    Ubicacion   Latitud   Longitud Familia  \\\n",
      "0                               Sucre  Manabi -0.105481 -80.150883  Apidae   \n",
      "1                               Sucre  Manabi -0.105717 -80.150756  Apidae   \n",
      "2       Jama  Canton of Jama  Manabi Province -0.183330 -80.266670  Apidae   \n",
      "3                                isla isabela -0.829237 -91.135302  Apidae   \n",
      "4                  Santa Cruz  GalÃ¡pagos  EC -0.741832 -90.308680  Apidae   \n",
      "...                                       ...       ...        ...     ...   \n",
      "6660  MATILDE ALVAREZ Y Oe4 (1)  170146 Quito -0.285283 -78.552277  Apidae   \n",
      "6661                             zona1  Quito -0.167853 -78.482331  Apidae   \n",
      "6662                                Latacunga -0.753611 -78.664974  Apidae   \n",
      "6663                                Tanicuchi -0.753790 -78.664810  Apidae   \n",
      "6664                        9V29+F48  Palanda -4.648836 -79.132267  Apidae   \n",
      "\n",
      "              Genero-ESPECIE       provinciaOK    CantonOK  \n",
      "0             Apis mellifera            manabi       sucre  \n",
      "1     Tetragonisca angustula            manabi       sucre  \n",
      "2             Apis mellifera            manabi        jama  \n",
      "3           Xylocopa darwini         Galapagos     isabela  \n",
      "4           Xylocopa darwini         Galapagos  santa cruz  \n",
      "...                      ...               ...         ...  \n",
      "6660          Apis mellifera         Pichincha       quito  \n",
      "6661          Apis mellifera         Pichincha       quito  \n",
      "6662          Apis mellifera          Cotopaxi   latacunga  \n",
      "6663         Bombus robustus          Cotopaxi        None  \n",
      "6664          Apis mellifera  Zamora Chinchipe     palanda  \n",
      "\n",
      "[6665 rows x 7 columns]\n"
     ]
    },
    {
     "name": "stderr",
     "output_type": "stream",
     "text": [
      "C:\\Users\\Public\\Documents\\Wondershare\\CreatorTemp\\ipykernel_15512\\3704046986.py:31: SettingWithCopyWarning: \n",
      "A value is trying to be set on a copy of a slice from a DataFrame.\n",
      "Try using .loc[row_indexer,col_indexer] = value instead\n",
      "\n",
      "See the caveats in the documentation: https://pandas.pydata.org/pandas-docs/stable/user_guide/indexing.html#returning-a-view-versus-a-copy\n",
      "  nuevo_df['CantonOK'] = nuevo_df.apply(lambda row: buscar_canton_en_ubicacion(row) if pd.notna(row['provinciaOK']) else None, axis=1)\n"
     ]
    }
   ],
   "source": [
    "import pandas as pd\n",
    "from fuzzywuzzy import process, fuzz\n",
    "\n",
    "# Asegúrate de que df_ubicaciones esté definido y contenga las columnas necesarias\n",
    "# df_ubicaciones = pd.read_excel('tu_archivo.xlsx')  # Carga el DataFrame si es necesario\n",
    "\n",
    "# Crear lista de Cantones y Provincias, y normalizar\n",
    "cantones_provincia = df_ubicaciones[['Canton', 'Provincia']].drop_duplicates()\n",
    "cantones_provincia['Canton'] = cantones_provincia['Canton'].str.strip().str.lower()  # Normaliza cantones\n",
    "cantones_provincia['Provincia'] = cantones_provincia['Provincia'].str.strip().str.lower()  # Normaliza provincias\n",
    "\n",
    "# Función para buscar coincidencias en la columna Ubicacion\n",
    "def buscar_canton_en_ubicacion(row):\n",
    "    if not row['Ubicacion']:  # Comprobar si la ubicación está vacía\n",
    "        return None\n",
    "\n",
    "    ubicacion_normalizada = row['Ubicacion'].strip().lower()  # Normaliza la ubicación\n",
    "\n",
    "    # Filtrar cantones por la provincia en provinciaOK\n",
    "    provincia_actual = row['provinciaOK'].strip().lower()  # Normaliza la provincia\n",
    "    cantones_filtrados = cantones_provincia[cantones_provincia['Provincia'] == provincia_actual]\n",
    "\n",
    "    # Comparar con Cantones filtrados\n",
    "    match = process.extractOne(ubicacion_normalizada, cantones_filtrados['Canton'], scorer=fuzz.token_set_ratio)\n",
    "    if match and match[1] >= 80:  # Ajustar el umbral si es necesario\n",
    "        return match[0]  # Retorna el cantón si hay coincidencia\n",
    "\n",
    "    return None  # Retornar None si no hay coincidencias\n",
    "\n",
    "# Aplicar la función y crear la nueva columna CantonOK solo si la provinciaOK tiene un valor\n",
    "nuevo_df['CantonOK'] = nuevo_df.apply(lambda row: buscar_canton_en_ubicacion(row) if pd.notna(row['provinciaOK']) else None, axis=1)\n",
    "\n",
    "# Guardar el nuevo DataFrame en memoria\n",
    "dataset_canton = nuevo_df[['Ubicacion', 'Latitud', 'Longitud', 'Familia', 'Genero-ESPECIE', 'provinciaOK', 'CantonOK']]\n",
    "\n",
    "# Mostrar el contenido del DataFrame\n",
    "print(dataset_canton)\n"
   ]
  },
  {
   "cell_type": "code",
   "execution_count": 699,
   "id": "54301c8a-fccb-430f-a681-efa1cc2eb86a",
   "metadata": {
    "tags": []
   },
   "outputs": [],
   "source": [
    "# Guardar el nuevo dataframe en un archivo Excel\n",
    "dataset_canton.to_excel('con_CampoCanton.xlsx', index=False)"
   ]
  },
  {
   "cell_type": "code",
   "execution_count": 703,
   "id": "835f3146-7b5d-4bd6-af7c-5ed4c09df19a",
   "metadata": {
    "tags": []
   },
   "outputs": [
    {
     "name": "stderr",
     "output_type": "stream",
     "text": [
      "C:\\Users\\Public\\Documents\\Wondershare\\CreatorTemp\\ipykernel_15512\\1972905796.py:67: SettingWithCopyWarning: \n",
      "A value is trying to be set on a copy of a slice from a DataFrame.\n",
      "Try using .loc[row_indexer,col_indexer] = value instead\n",
      "\n",
      "See the caveats in the documentation: https://pandas.pydata.org/pandas-docs/stable/user_guide/indexing.html#returning-a-view-versus-a-copy\n",
      "  nuevo_df['CantonOK'] = nuevo_df.apply(lambda row: buscar_canton_en_ubicacion(row) if pd.notna(row['provinciaOK']) else None, axis=1)\n"
     ]
    },
    {
     "name": "stdout",
     "output_type": "stream",
     "text": [
      "                                    Ubicacion   Latitud   Longitud Familia  \\\n",
      "0                               Sucre  Manabi -0.105481 -80.150883  Apidae   \n",
      "1                               Sucre  Manabi -0.105717 -80.150756  Apidae   \n",
      "2       Jama  Canton of Jama  Manabi Province -0.183330 -80.266670  Apidae   \n",
      "3                                isla isabela -0.829237 -91.135302  Apidae   \n",
      "4                  Santa Cruz  GalÃ¡pagos  EC -0.741832 -90.308680  Apidae   \n",
      "...                                       ...       ...        ...     ...   \n",
      "6660  MATILDE ALVAREZ Y Oe4 (1)  170146 Quito -0.285283 -78.552277  Apidae   \n",
      "6661                             zona1  Quito -0.167853 -78.482331  Apidae   \n",
      "6662                                Latacunga -0.753611 -78.664974  Apidae   \n",
      "6663                                Tanicuchi -0.753790 -78.664810  Apidae   \n",
      "6664                        9V29+F48  Palanda -4.648836 -79.132267  Apidae   \n",
      "\n",
      "              Genero-ESPECIE       provinciaOK    CantonOK  \n",
      "0             Apis mellifera            manabi       sucre  \n",
      "1     Tetragonisca angustula            manabi       sucre  \n",
      "2             Apis mellifera            manabi        jama  \n",
      "3           Xylocopa darwini         Galapagos     isabela  \n",
      "4           Xylocopa darwini         Galapagos  santa cruz  \n",
      "...                      ...               ...         ...  \n",
      "6660          Apis mellifera         Pichincha       quito  \n",
      "6661          Apis mellifera         Pichincha       quito  \n",
      "6662          Apis mellifera          Cotopaxi   latacunga  \n",
      "6663         Bombus robustus          Cotopaxi   Latacunga  \n",
      "6664          Apis mellifera  Zamora Chinchipe     palanda  \n",
      "\n",
      "[6665 rows x 7 columns]\n"
     ]
    },
    {
     "name": "stderr",
     "output_type": "stream",
     "text": [
      "C:\\Users\\Public\\Documents\\Wondershare\\CreatorTemp\\ipykernel_15512\\1972905796.py:70: SettingWithCopyWarning: \n",
      "A value is trying to be set on a copy of a slice from a DataFrame.\n",
      "Try using .loc[row_indexer,col_indexer] = value instead\n",
      "\n",
      "See the caveats in the documentation: https://pandas.pydata.org/pandas-docs/stable/user_guide/indexing.html#returning-a-view-versus-a-copy\n",
      "  nuevo_df['CantonOK'] = nuevo_df.apply(lambda row: buscar_canton_por_parroquia(row), axis=1)\n"
     ]
    }
   ],
   "source": [
    "import pandas as pd\n",
    "from fuzzywuzzy import process, fuzz\n",
    "\n",
    "# Asegúrate de que df_ubicaciones esté definido y contenga las columnas necesarias\n",
    "# df_ubicaciones = pd.read_excel('tu_archivo.xlsx')  # Carga el DataFrame si es necesario\n",
    "\n",
    "# Crear lista de Cantones y Provincias, y normalizar\n",
    "cantones_provincia = df_ubicaciones[['Canton', 'Provincia']].drop_duplicates()\n",
    "cantones_provincia['Canton'] = cantones_provincia['Canton'].str.strip().str.lower()  # Normaliza cantones\n",
    "cantones_provincia['Provincia'] = cantones_provincia['Provincia'].str.strip().str.lower()  # Normaliza provincias\n",
    "\n",
    "# Crear lista de Parroquias y normalizar\n",
    "parroquias = df_ubicaciones[['Parroquia', 'Canton']].drop_duplicates()\n",
    "parroquias['Parroquia'] = parroquias['Parroquia'].str.strip().str.lower()  # Normaliza parroquias\n",
    "\n",
    "# Función para buscar canton en base a la ubicación\n",
    "def buscar_canton_en_ubicacion(row):\n",
    "    if not row['Ubicacion']:  # Comprobar si la ubicación está vacía\n",
    "        return None\n",
    "\n",
    "    ubicacion_normalizada = row['Ubicacion'].strip().lower()  # Normaliza la ubicación\n",
    "\n",
    "    # Filtrar cantones por la provincia en provinciaOK\n",
    "    provincia_actual = row['provinciaOK']\n",
    "    if pd.isna(provincia_actual) or not isinstance(provincia_actual, str):\n",
    "        return None  # Retornar None si provinciaOK no es válido\n",
    "\n",
    "    provincia_actual = provincia_actual.strip().lower()  # Normaliza la provincia\n",
    "    cantones_filtrados = cantones_provincia[cantones_provincia['Provincia'] == provincia_actual]\n",
    "\n",
    "    # Comparar con Cantones filtrados\n",
    "    match = process.extractOne(ubicacion_normalizada, cantones_filtrados['Canton'], scorer=fuzz.token_set_ratio)\n",
    "    if match and match[1] >= 80:  # Ajustar el umbral si es necesario\n",
    "        return match[0]  # Retorna el cantón si hay coincidencia\n",
    "\n",
    "    return None  # Retornar None si no hay coincidencias\n",
    "\n",
    "# Función para buscar canton basado en parroquia\n",
    "def buscar_canton_por_parroquia(row):\n",
    "    if pd.notna(row['CantonOK']) and row['CantonOK'] != '':  # Si ya hay un cantón asignado, retorna\n",
    "        return row['CantonOK']\n",
    "\n",
    "    if not row['Ubicacion']:  # Comprobar si la ubicación está vacía\n",
    "        return None\n",
    "\n",
    "    # Filtrar cantones por la provincia en provinciaOK\n",
    "    provincia_actual = row['provinciaOK']\n",
    "    if pd.isna(provincia_actual) or not isinstance(provincia_actual, str):\n",
    "        return None  # Retornar None si provinciaOK no es válido\n",
    "\n",
    "    provincia_actual = provincia_actual.strip().lower()  # Normaliza la provincia\n",
    "    cantones_filtrados = cantones_provincia[cantones_provincia['Provincia'] == provincia_actual]\n",
    "\n",
    "    # Normaliza la ubicación para buscar parroquias\n",
    "    ubicacion_normalizada = row['Ubicacion'].strip().lower()\n",
    "\n",
    "    # Comparar con Parroquias\n",
    "    match_parroquia = process.extractOne(ubicacion_normalizada, parroquias['Parroquia'], scorer=fuzz.token_set_ratio)\n",
    "    if match_parroquia and match_parroquia[1] >= 80:  # Ajustar el umbral si es necesario\n",
    "        canton_asociado = parroquias.loc[parroquias['Parroquia'] == match_parroquia[0], 'Canton'].values\n",
    "        if len(canton_asociado) > 0:\n",
    "            return canton_asociado[0]  # Retorna el cantón asociado a la parroquia\n",
    "\n",
    "    return None  # Retornar None si no hay coincidencias\n",
    "\n",
    "# Aplicar la función para buscar canton en base a la ubicación\n",
    "nuevo_df['CantonOK'] = nuevo_df.apply(lambda row: buscar_canton_en_ubicacion(row) if pd.notna(row['provinciaOK']) else None, axis=1)\n",
    "\n",
    "# Aplicar la función para buscar canton en base a la parroquia solo si CantonOK sigue vacío\n",
    "nuevo_df['CantonOK'] = nuevo_df.apply(lambda row: buscar_canton_por_parroquia(row), axis=1)\n",
    "\n",
    "# Guardar el nuevo DataFrame en memoria\n",
    "dataset_canton = nuevo_df[['Ubicacion', 'Latitud', 'Longitud', 'Familia', 'Genero-ESPECIE', 'provinciaOK', 'CantonOK']]\n",
    "\n",
    "# Mostrar el contenido del DataFrame\n",
    "print(dataset_canton)\n"
   ]
  },
  {
   "cell_type": "code",
   "execution_count": 708,
   "id": "a8630594-47f3-4df0-a048-686421c857b9",
   "metadata": {
    "tags": []
   },
   "outputs": [],
   "source": [
    "# Guardar el nuevo dataframe en un archivo Excel\n",
    "dataset_canton.to_excel('con_CampoCantonParroquia.xlsx', index=False)"
   ]
  },
  {
   "cell_type": "code",
   "execution_count": null,
   "id": "2737e4dc-bb1d-4830-be60-b4610b56863f",
   "metadata": {},
   "outputs": [],
   "source": []
  }
 ],
 "metadata": {
  "kernelspec": {
   "display_name": "Python 3 (ipykernel)",
   "language": "python",
   "name": "python3"
  },
  "language_info": {
   "codemirror_mode": {
    "name": "ipython",
    "version": 3
   },
   "file_extension": ".py",
   "mimetype": "text/x-python",
   "name": "python",
   "nbconvert_exporter": "python",
   "pygments_lexer": "ipython3",
   "version": "3.11.7"
  }
 },
 "nbformat": 4,
 "nbformat_minor": 5
}
